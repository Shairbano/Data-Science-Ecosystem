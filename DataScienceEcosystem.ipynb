{
 "cells": [
  {
   "cell_type": "markdown",
   "id": "2d77e1ba-3a0b-4d15-aadc-6b166b00c4dd",
   "metadata": {},
   "source": [
    "# Data Science Tools and Ecosystem"
   ]
  },
  {
   "cell_type": "markdown",
   "id": "3764cb1c-d4d0-4100-9a89-f41207204577",
   "metadata": {},
   "source": [
    "###### In this notebook, Data Science Tools and Ecosystem are summarized.\n",
    "\n"
   ]
  },
  {
   "cell_type": "markdown",
   "id": "094a6656-c055-4cae-9f89-07385754fc4f",
   "metadata": {},
   "source": [
    "# Objectives\n",
    "Different objectives of this course are:\n",
    "- Identify different languages of Data Science\n",
    "- Identify different tools of Data Science\n",
    "- Identify different libraries of Data Science"
   ]
  },
  {
   "cell_type": "markdown",
   "id": "dc6c5d4d-721a-4a25-9a9e-daf2df1027e5",
   "metadata": {},
   "source": [
    "### Some of the data science languages are:\n",
    "1. Python\n",
    "2. R\n",
    "3. C++\n",
    "4. Java "
   ]
  },
  {
   "cell_type": "markdown",
   "id": "1433e992-4961-4ed7-bd83-6e9e8f0ec3f6",
   "metadata": {},
   "source": [
    "## Some of the common data science libraries are:\n",
    "1. tensorflow\n",
    "2. apachespark\n",
    "3. pytorch"
   ]
  },
  {
   "cell_type": "markdown",
   "id": "efde87fa-0a0e-4d2f-aea4-ae91747e6902",
   "metadata": {},
   "source": [
    "| No | Data Science tools |\n",
    "| ---|-------------------|\n",
    "| 1. | Jupyter notebook |\n",
    "| 2. |  RStudio |\n",
    "| 3. | Apachespark |\n",
    "    "
   ]
  },
  {
   "cell_type": "markdown",
   "id": "a9ce498e-5d5c-4cb9-bae3-4afa258e9d56",
   "metadata": {},
   "source": [
    "### Below are a few examples of evaluating arithmetic expressions in Python"
   ]
  },
  {
   "cell_type": "code",
   "execution_count": 2,
   "id": "137e7695-82eb-4a37-bfaa-89b25084c9c1",
   "metadata": {},
   "outputs": [
    {
     "data": {
      "text/plain": [
       "5"
      ]
     },
     "execution_count": 2,
     "metadata": {},
     "output_type": "execute_result"
    }
   ],
   "source": [
    "2+3\n"
   ]
  },
  {
   "cell_type": "code",
   "execution_count": 3,
   "id": "b4b2aea7-788e-445f-8d95-f03dd539eb38",
   "metadata": {},
   "outputs": [
    {
     "data": {
      "text/plain": [
       "10"
      ]
     },
     "execution_count": 3,
     "metadata": {},
     "output_type": "execute_result"
    }
   ],
   "source": [
    "5*2"
   ]
  },
  {
   "cell_type": "code",
   "execution_count": 4,
   "id": "01d14329-8d2b-4e47-ac7d-1aef0808883d",
   "metadata": {},
   "outputs": [
    {
     "data": {
      "text/plain": [
       "17"
      ]
     },
     "execution_count": 4,
     "metadata": {},
     "output_type": "execute_result"
    }
   ],
   "source": [
    "# This a simple arithmetic expression to mutiply then add integers\n",
    "(3*4)+5"
   ]
  },
  {
   "cell_type": "code",
   "execution_count": 7,
   "id": "002f911c-3d2e-4cec-874b-80e676a93db2",
   "metadata": {},
   "outputs": [
    {
     "name": "stdout",
     "output_type": "stream",
     "text": [
      "3.3333333333333335 hours\n"
     ]
    }
   ],
   "source": [
    "# This will convert 200 minutes to hours by diving by 60\n",
    "print(200/60 ,\"hours\")\n"
   ]
  },
  {
   "cell_type": "markdown",
   "id": "579e022f-156d-47dd-b2d1-56942aa28788",
   "metadata": {},
   "source": [
    "## Author\n",
    "Shairbano"
   ]
  },
  {
   "cell_type": "code",
   "execution_count": null,
   "id": "e1454801-4671-4708-9efe-6dd23a08af5e",
   "metadata": {},
   "outputs": [],
   "source": []
  }
 ],
 "metadata": {
  "kernelspec": {
   "display_name": "Python 3 (ipykernel)",
   "language": "python",
   "name": "python3"
  },
  "language_info": {
   "codemirror_mode": {
    "name": "ipython",
    "version": 3
   },
   "file_extension": ".py",
   "mimetype": "text/x-python",
   "name": "python",
   "nbconvert_exporter": "python",
   "pygments_lexer": "ipython3",
   "version": "3.12.7"
  }
 },
 "nbformat": 4,
 "nbformat_minor": 5
}
